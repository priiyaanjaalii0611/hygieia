{
  "nbformat": 4,
  "nbformat_minor": 0,
  "metadata": {
    "kernelspec": {
      "display_name": "Python 3",
      "language": "python",
      "name": "python3"
    },
    "language_info": {
      "codemirror_mode": {
        "name": "ipython",
        "version": 3
      },
      "file_extension": ".py",
      "mimetype": "text/x-python",
      "name": "python",
      "nbconvert_exporter": "python",
      "pygments_lexer": "ipython3",
      "version": "3.7.6"
    },
    "colab": {
      "name": "trail 1.ipynb",
      "provenance": []
    },
    "accelerator": "GPU"
  },
  "cells": [
    {
      "cell_type": "code",
      "metadata": {
        "id": "xSRV632US4wB"
      },
      "source": [
        "#PACKAGES\n",
        "import tensorflow as tf\n",
        "import matplotlib.pyplot as plt\n",
        "import cv2\n",
        "import os\n",
        "import numpy as np\n",
        "from tensorflow.keras.preprocessing.image import ImageDataGenerator\n",
        "from tensorflow.keras.preprocessing import image\n",
        "from tensorflow.keras.optimizers import RMSprop\n",
        "from tensorflow import keras\n",
        "from tensorflow.keras import layers\n",
        "from tensorflow.keras.models import Sequential"
      ],
      "execution_count": 1,
      "outputs": []
    },
    {
      "cell_type": "code",
      "metadata": {
        "colab": {
          "base_uri": "https://localhost:8080/"
        },
        "id": "wNdUMIlETLxv",
        "outputId": "eda8cb49-30c1-4658-a527-d99798686bd1"
      },
      "source": [
        "#DRIVE LINKING\r\n",
        "from google.colab import drive\r\n",
        "drive.mount('/content/drive/')"
      ],
      "execution_count": 2,
      "outputs": [
        {
          "output_type": "stream",
          "text": [
            "Mounted at /content/drive/\n"
          ],
          "name": "stdout"
        }
      ]
    },
    {
      "cell_type": "code",
      "metadata": {
        "id": "MWrMX6acWRS8"
      },
      "source": [
        "#DATA DIRECTORY LINKING\r\n",
        "DATADIR = \"/content/drive/MyDrive/train_200px\"\r\n",
        "CATEGORIES = [\"FH\",\"MC\",\"MH\",\"NL\",\"OH\",\"VC\"]"
      ],
      "execution_count": 3,
      "outputs": []
    },
    {
      "cell_type": "markdown",
      "metadata": {
        "id": "QsXvlrgrW9S_"
      },
      "source": [
        "CREATING DATASET"
      ]
    },
    {
      "cell_type": "code",
      "metadata": {
        "id": "8g6QMZ-dcFVK"
      },
      "source": [
        "batch_size = 2\r\n",
        "img_height = 200\r\n",
        "img_width = 200"
      ],
      "execution_count": 35,
      "outputs": []
    },
    {
      "cell_type": "code",
      "metadata": {
        "colab": {
          "base_uri": "https://localhost:8080/"
        },
        "id": "7eOjZnkwcQey",
        "outputId": "19d7cbd7-a0da-4850-8b9f-5f25d8384982"
      },
      "source": [
        "train_ds = tf.keras.preprocessing.image_dataset_from_directory(\r\n",
        "  DATADIR,\r\n",
        "  validation_split=0.1,\r\n",
        "  subset=\"training\",\r\n",
        "  seed=123,\r\n",
        "  image_size=(img_height, img_width),\r\n",
        "  batch_size=batch_size)"
      ],
      "execution_count": 36,
      "outputs": [
        {
          "output_type": "stream",
          "text": [
            "Found 592 files belonging to 6 classes.\n",
            "Using 533 files for training.\n"
          ],
          "name": "stdout"
        }
      ]
    },
    {
      "cell_type": "code",
      "metadata": {
        "colab": {
          "base_uri": "https://localhost:8080/"
        },
        "id": "COPyKeVhcigR",
        "outputId": "899fc6d5-0ab0-4aa9-853d-2a4d79c22a0b"
      },
      "source": [
        "val_ds = tf.keras.preprocessing.image_dataset_from_directory(\r\n",
        "  DATADIR,\r\n",
        "  validation_split=0.1,\r\n",
        "  subset=\"validation\",\r\n",
        "  seed=123,\r\n",
        "  image_size=(img_height, img_width),\r\n",
        "  batch_size=batch_size)"
      ],
      "execution_count": 37,
      "outputs": [
        {
          "output_type": "stream",
          "text": [
            "Found 592 files belonging to 6 classes.\n",
            "Using 59 files for validation.\n"
          ],
          "name": "stdout"
        }
      ]
    },
    {
      "cell_type": "code",
      "metadata": {
        "colab": {
          "base_uri": "https://localhost:8080/"
        },
        "id": "s7I3sbS_cp0Z",
        "outputId": "21d64520-3fc6-4b29-de36-c5f487c76040"
      },
      "source": [
        "class_names = train_ds.class_names\r\n",
        "print(class_names)"
      ],
      "execution_count": 38,
      "outputs": [
        {
          "output_type": "stream",
          "text": [
            "['FH_200px', 'MC_200px', 'MH_200px', 'NL_200px', 'OH_200px', 'VC_200px']\n"
          ],
          "name": "stdout"
        }
      ]
    },
    {
      "cell_type": "markdown",
      "metadata": {
        "id": "pBAhhaBBc1ap"
      },
      "source": [
        "VISUALISE DATA"
      ]
    },
    {
      "cell_type": "code",
      "metadata": {
        "colab": {
          "base_uri": "https://localhost:8080/"
        },
        "id": "d-UprlE1c7XO",
        "outputId": "00173b51-bb77-4401-9037-d7db8f991fd4"
      },
      "source": [
        "for image_batch, labels_batch in train_ds:\r\n",
        "  print(image_batch.shape)\r\n",
        "  print(labels_batch.shape)\r\n",
        "  break"
      ],
      "execution_count": 39,
      "outputs": [
        {
          "output_type": "stream",
          "text": [
            "(2, 200, 200, 3)\n",
            "(2,)\n"
          ],
          "name": "stdout"
        }
      ]
    },
    {
      "cell_type": "markdown",
      "metadata": {
        "id": "x694E7w2dRxt"
      },
      "source": [
        "Configure the dataset for performance"
      ]
    },
    {
      "cell_type": "code",
      "metadata": {
        "id": "btNHtZ-UdVGB"
      },
      "source": [
        "AUTOTUNE = tf.data.AUTOTUNE\r\n",
        "\r\n",
        "train_ds = train_ds.cache().shuffle(50).prefetch(buffer_size=AUTOTUNE)\r\n",
        "val_ds = val_ds.cache().prefetch(buffer_size=AUTOTUNE)"
      ],
      "execution_count": 40,
      "outputs": []
    },
    {
      "cell_type": "markdown",
      "metadata": {
        "id": "U-uftaMgddzZ"
      },
      "source": [
        "Standardize the data"
      ]
    },
    {
      "cell_type": "markdown",
      "metadata": {
        "id": "Op6EsVgyd2Mq"
      },
      "source": [
        "CREATE MODEL"
      ]
    },
    {
      "cell_type": "code",
      "metadata": {
        "id": "PQnu8QsFS4wJ"
      },
      "source": [
        "num_classes = 6\n",
        "\n",
        "model = Sequential([\n",
        "  layers.experimental.preprocessing.Rescaling(1./255, input_shape=(img_height, img_width, 3)),\n",
        "  layers.Conv2D(16, 3, padding='same', activation='relu'),\n",
        "  layers.MaxPooling2D(),\n",
        "  layers.Conv2D(32, 3, padding='same', activation='relu'),\n",
        "  layers.MaxPooling2D(),\n",
        "  layers.Conv2D(64, 3, padding='same', activation='relu'),\n",
        "  layers.MaxPooling2D(),\n",
        "  layers.Flatten(),\n",
        "  layers.Dense(128, activation='relu'),\n",
        "  layers.Dense(num_classes)\n",
        "])"
      ],
      "execution_count": 41,
      "outputs": []
    },
    {
      "cell_type": "code",
      "metadata": {
        "scrolled": true,
        "id": "T5PFU_NBS4wJ"
      },
      "source": [
        "model.compile(optimizer='RMSprop',\n",
        "              loss='sparse_categorical_crossentropy',\n",
        "              metrics=['accuracy'])"
      ],
      "execution_count": 42,
      "outputs": []
    },
    {
      "cell_type": "code",
      "metadata": {
        "colab": {
          "base_uri": "https://localhost:8080/"
        },
        "id": "6PRzOelOS4wK",
        "outputId": "2dbf936e-e90d-47cd-9ba0-e65e2b4e3178"
      },
      "source": [
        "model.summary()"
      ],
      "execution_count": 43,
      "outputs": [
        {
          "output_type": "stream",
          "text": [
            "Model: \"sequential_2\"\n",
            "_________________________________________________________________\n",
            "Layer (type)                 Output Shape              Param #   \n",
            "=================================================================\n",
            "rescaling_2 (Rescaling)      (None, 200, 200, 3)       0         \n",
            "_________________________________________________________________\n",
            "conv2d_6 (Conv2D)            (None, 200, 200, 16)      448       \n",
            "_________________________________________________________________\n",
            "max_pooling2d_6 (MaxPooling2 (None, 100, 100, 16)      0         \n",
            "_________________________________________________________________\n",
            "conv2d_7 (Conv2D)            (None, 100, 100, 32)      4640      \n",
            "_________________________________________________________________\n",
            "max_pooling2d_7 (MaxPooling2 (None, 50, 50, 32)        0         \n",
            "_________________________________________________________________\n",
            "conv2d_8 (Conv2D)            (None, 50, 50, 64)        18496     \n",
            "_________________________________________________________________\n",
            "max_pooling2d_8 (MaxPooling2 (None, 25, 25, 64)        0         \n",
            "_________________________________________________________________\n",
            "flatten_2 (Flatten)          (None, 40000)             0         \n",
            "_________________________________________________________________\n",
            "dense_4 (Dense)              (None, 128)               5120128   \n",
            "_________________________________________________________________\n",
            "dense_5 (Dense)              (None, 6)                 774       \n",
            "=================================================================\n",
            "Total params: 5,144,486\n",
            "Trainable params: 5,144,486\n",
            "Non-trainable params: 0\n",
            "_________________________________________________________________\n"
          ],
          "name": "stdout"
        }
      ]
    },
    {
      "cell_type": "code",
      "metadata": {
        "colab": {
          "base_uri": "https://localhost:8080/"
        },
        "id": "qrDv7H-kS4wK",
        "outputId": "72128654-058d-433d-9fe6-871b66a1587b"
      },
      "source": [
        "epochs = 100\n",
        "history = model.fit(\n",
        "  train_ds,\n",
        "  validation_data=val_ds,\n",
        "  epochs = epochs\n",
        ")"
      ],
      "execution_count": 44,
      "outputs": [
        {
          "output_type": "stream",
          "text": [
            "Epoch 1/100\n",
            "267/267 [==============================] - 3s 7ms/step - loss: 4.4364 - accuracy: 0.1412 - val_loss: 1.7918 - val_accuracy: 0.1695\n",
            "Epoch 2/100\n",
            "267/267 [==============================] - 1s 5ms/step - loss: 1.7918 - accuracy: 0.1565 - val_loss: 1.7918 - val_accuracy: 0.1695\n",
            "Epoch 3/100\n",
            "267/267 [==============================] - 1s 5ms/step - loss: 1.7918 - accuracy: 0.1520 - val_loss: 1.7918 - val_accuracy: 0.1695\n",
            "Epoch 4/100\n",
            "267/267 [==============================] - 1s 5ms/step - loss: 1.7918 - accuracy: 0.1599 - val_loss: 1.7918 - val_accuracy: 0.1695\n",
            "Epoch 5/100\n",
            "267/267 [==============================] - 1s 5ms/step - loss: 1.7918 - accuracy: 0.1533 - val_loss: 1.7918 - val_accuracy: 0.1695\n",
            "Epoch 6/100\n",
            "267/267 [==============================] - 1s 5ms/step - loss: 1.7918 - accuracy: 0.1606 - val_loss: 1.7918 - val_accuracy: 0.1695\n",
            "Epoch 7/100\n",
            "267/267 [==============================] - 1s 5ms/step - loss: 1.7918 - accuracy: 0.1636 - val_loss: 1.7918 - val_accuracy: 0.1695\n",
            "Epoch 8/100\n",
            "267/267 [==============================] - 1s 5ms/step - loss: 1.7918 - accuracy: 0.1556 - val_loss: 1.7918 - val_accuracy: 0.1695\n",
            "Epoch 9/100\n",
            "267/267 [==============================] - 1s 5ms/step - loss: 1.7918 - accuracy: 0.1708 - val_loss: 1.7918 - val_accuracy: 0.1695\n",
            "Epoch 10/100\n",
            "267/267 [==============================] - 1s 5ms/step - loss: 1.7918 - accuracy: 0.1516 - val_loss: 1.7918 - val_accuracy: 0.1695\n",
            "Epoch 11/100\n",
            "267/267 [==============================] - 1s 5ms/step - loss: 1.7918 - accuracy: 0.1483 - val_loss: 1.7918 - val_accuracy: 0.1695\n",
            "Epoch 12/100\n",
            "267/267 [==============================] - 1s 5ms/step - loss: 1.7918 - accuracy: 0.1910 - val_loss: 1.7918 - val_accuracy: 0.1695\n",
            "Epoch 13/100\n",
            "267/267 [==============================] - 1s 5ms/step - loss: 1.7918 - accuracy: 0.1658 - val_loss: 1.7918 - val_accuracy: 0.1695\n",
            "Epoch 14/100\n",
            "267/267 [==============================] - 1s 5ms/step - loss: 1.7918 - accuracy: 0.1814 - val_loss: 1.7918 - val_accuracy: 0.1695\n",
            "Epoch 15/100\n",
            "267/267 [==============================] - 1s 5ms/step - loss: 1.7918 - accuracy: 0.1625 - val_loss: 1.7918 - val_accuracy: 0.1695\n",
            "Epoch 16/100\n",
            "267/267 [==============================] - 1s 5ms/step - loss: 1.7918 - accuracy: 0.1513 - val_loss: 1.7918 - val_accuracy: 0.1695\n",
            "Epoch 17/100\n",
            "267/267 [==============================] - 1s 5ms/step - loss: 1.7918 - accuracy: 0.1540 - val_loss: 1.7918 - val_accuracy: 0.1695\n",
            "Epoch 18/100\n",
            "267/267 [==============================] - 1s 5ms/step - loss: 1.7918 - accuracy: 0.1586 - val_loss: 1.7918 - val_accuracy: 0.1695\n",
            "Epoch 19/100\n",
            "267/267 [==============================] - 1s 5ms/step - loss: 1.7918 - accuracy: 0.1657 - val_loss: 1.7918 - val_accuracy: 0.1695\n",
            "Epoch 20/100\n",
            "267/267 [==============================] - 1s 5ms/step - loss: 1.7918 - accuracy: 0.1678 - val_loss: 1.7918 - val_accuracy: 0.1695\n",
            "Epoch 21/100\n",
            "267/267 [==============================] - 1s 5ms/step - loss: 1.7918 - accuracy: 0.1636 - val_loss: 1.7918 - val_accuracy: 0.1695\n",
            "Epoch 22/100\n",
            "267/267 [==============================] - 1s 5ms/step - loss: 1.7918 - accuracy: 0.1764 - val_loss: 1.7918 - val_accuracy: 0.1695\n",
            "Epoch 23/100\n",
            "267/267 [==============================] - 1s 5ms/step - loss: 1.7918 - accuracy: 0.1549 - val_loss: 1.7918 - val_accuracy: 0.1695\n",
            "Epoch 24/100\n",
            "267/267 [==============================] - 1s 5ms/step - loss: 1.7918 - accuracy: 0.1526 - val_loss: 1.7918 - val_accuracy: 0.1695\n",
            "Epoch 25/100\n",
            "267/267 [==============================] - 1s 5ms/step - loss: 1.7918 - accuracy: 0.1502 - val_loss: 1.7918 - val_accuracy: 0.1695\n",
            "Epoch 26/100\n",
            "267/267 [==============================] - 1s 5ms/step - loss: 1.7918 - accuracy: 0.1363 - val_loss: 1.7918 - val_accuracy: 0.1695\n",
            "Epoch 27/100\n",
            "267/267 [==============================] - 1s 5ms/step - loss: 1.7918 - accuracy: 0.1563 - val_loss: 1.7918 - val_accuracy: 0.1695\n",
            "Epoch 28/100\n",
            "267/267 [==============================] - 1s 5ms/step - loss: 1.7918 - accuracy: 0.1466 - val_loss: 1.7918 - val_accuracy: 0.1695\n",
            "Epoch 29/100\n",
            "267/267 [==============================] - 1s 5ms/step - loss: 1.7918 - accuracy: 0.1913 - val_loss: 1.7918 - val_accuracy: 0.1695\n",
            "Epoch 30/100\n",
            "267/267 [==============================] - 1s 5ms/step - loss: 1.7918 - accuracy: 0.1623 - val_loss: 1.7918 - val_accuracy: 0.1695\n",
            "Epoch 31/100\n",
            "267/267 [==============================] - 1s 5ms/step - loss: 1.7918 - accuracy: 0.1470 - val_loss: 1.7918 - val_accuracy: 0.1695\n",
            "Epoch 32/100\n",
            "267/267 [==============================] - 1s 5ms/step - loss: 1.7918 - accuracy: 0.1729 - val_loss: 1.7918 - val_accuracy: 0.1695\n",
            "Epoch 33/100\n",
            "267/267 [==============================] - 1s 5ms/step - loss: 1.7918 - accuracy: 0.1495 - val_loss: 1.7918 - val_accuracy: 0.1695\n",
            "Epoch 34/100\n",
            "267/267 [==============================] - 2s 6ms/step - loss: 1.7918 - accuracy: 0.1537 - val_loss: 1.7918 - val_accuracy: 0.1695\n",
            "Epoch 35/100\n",
            "267/267 [==============================] - 1s 5ms/step - loss: 1.7918 - accuracy: 0.1570 - val_loss: 1.7918 - val_accuracy: 0.1695\n",
            "Epoch 36/100\n",
            "267/267 [==============================] - 1s 5ms/step - loss: 1.7918 - accuracy: 0.1602 - val_loss: 1.7918 - val_accuracy: 0.1695\n",
            "Epoch 37/100\n",
            "267/267 [==============================] - 1s 5ms/step - loss: 1.7918 - accuracy: 0.1707 - val_loss: 1.7918 - val_accuracy: 0.1695\n",
            "Epoch 38/100\n",
            "267/267 [==============================] - 1s 5ms/step - loss: 1.7918 - accuracy: 0.1749 - val_loss: 1.7918 - val_accuracy: 0.1695\n",
            "Epoch 39/100\n",
            "267/267 [==============================] - 1s 5ms/step - loss: 1.7918 - accuracy: 0.1457 - val_loss: 1.7918 - val_accuracy: 0.1695\n",
            "Epoch 40/100\n",
            "267/267 [==============================] - 1s 5ms/step - loss: 1.7918 - accuracy: 0.1541 - val_loss: 1.7918 - val_accuracy: 0.1695\n",
            "Epoch 41/100\n",
            "267/267 [==============================] - 1s 5ms/step - loss: 1.7918 - accuracy: 0.1502 - val_loss: 1.7918 - val_accuracy: 0.1695\n",
            "Epoch 42/100\n",
            "267/267 [==============================] - 1s 5ms/step - loss: 1.7918 - accuracy: 0.1524 - val_loss: 1.7918 - val_accuracy: 0.1695\n",
            "Epoch 43/100\n",
            "267/267 [==============================] - 1s 5ms/step - loss: 1.7918 - accuracy: 0.1820 - val_loss: 1.7918 - val_accuracy: 0.1695\n",
            "Epoch 44/100\n",
            "267/267 [==============================] - 1s 5ms/step - loss: 1.7918 - accuracy: 0.1781 - val_loss: 1.7918 - val_accuracy: 0.1695\n",
            "Epoch 45/100\n",
            "267/267 [==============================] - 1s 5ms/step - loss: 1.7918 - accuracy: 0.1707 - val_loss: 1.7918 - val_accuracy: 0.1695\n",
            "Epoch 46/100\n",
            "267/267 [==============================] - 1s 5ms/step - loss: 1.7918 - accuracy: 0.1811 - val_loss: 1.7918 - val_accuracy: 0.1695\n",
            "Epoch 47/100\n",
            "267/267 [==============================] - 1s 5ms/step - loss: 1.7918 - accuracy: 0.1589 - val_loss: 1.7918 - val_accuracy: 0.1695\n",
            "Epoch 48/100\n",
            "267/267 [==============================] - 1s 5ms/step - loss: 1.7918 - accuracy: 0.1565 - val_loss: 1.7918 - val_accuracy: 0.1695\n",
            "Epoch 49/100\n",
            "267/267 [==============================] - 1s 5ms/step - loss: 1.7918 - accuracy: 0.1495 - val_loss: 1.7918 - val_accuracy: 0.1695\n",
            "Epoch 50/100\n",
            "267/267 [==============================] - 1s 5ms/step - loss: 1.7918 - accuracy: 0.1610 - val_loss: 1.7918 - val_accuracy: 0.1695\n",
            "Epoch 51/100\n",
            "267/267 [==============================] - 1s 5ms/step - loss: 1.7918 - accuracy: 0.1599 - val_loss: 1.7918 - val_accuracy: 0.1695\n",
            "Epoch 52/100\n",
            "267/267 [==============================] - 1s 5ms/step - loss: 1.7918 - accuracy: 0.1643 - val_loss: 1.7918 - val_accuracy: 0.1695\n",
            "Epoch 53/100\n",
            "267/267 [==============================] - 1s 5ms/step - loss: 1.7918 - accuracy: 0.1668 - val_loss: 1.7918 - val_accuracy: 0.1695\n",
            "Epoch 54/100\n",
            "267/267 [==============================] - 1s 5ms/step - loss: 1.7918 - accuracy: 0.1593 - val_loss: 1.7918 - val_accuracy: 0.1695\n",
            "Epoch 55/100\n",
            "267/267 [==============================] - 1s 5ms/step - loss: 1.7918 - accuracy: 0.1636 - val_loss: 1.7918 - val_accuracy: 0.1695\n",
            "Epoch 56/100\n",
            "267/267 [==============================] - 1s 5ms/step - loss: 1.7918 - accuracy: 0.1586 - val_loss: 1.7918 - val_accuracy: 0.1695\n",
            "Epoch 57/100\n",
            "267/267 [==============================] - 1s 5ms/step - loss: 1.7918 - accuracy: 0.1764 - val_loss: 1.7918 - val_accuracy: 0.1695\n",
            "Epoch 58/100\n",
            "267/267 [==============================] - 1s 5ms/step - loss: 1.7918 - accuracy: 0.1544 - val_loss: 1.7918 - val_accuracy: 0.1695\n",
            "Epoch 59/100\n",
            "267/267 [==============================] - 1s 5ms/step - loss: 1.7918 - accuracy: 0.1664 - val_loss: 1.7918 - val_accuracy: 0.1695\n",
            "Epoch 60/100\n",
            "267/267 [==============================] - 1s 5ms/step - loss: 1.7918 - accuracy: 0.1564 - val_loss: 1.7918 - val_accuracy: 0.1695\n",
            "Epoch 61/100\n",
            "267/267 [==============================] - 1s 5ms/step - loss: 1.7918 - accuracy: 0.1723 - val_loss: 1.7918 - val_accuracy: 0.1695\n",
            "Epoch 62/100\n",
            "267/267 [==============================] - 1s 5ms/step - loss: 1.7918 - accuracy: 0.1468 - val_loss: 1.7918 - val_accuracy: 0.1695\n",
            "Epoch 63/100\n",
            "267/267 [==============================] - 1s 5ms/step - loss: 1.7918 - accuracy: 0.1517 - val_loss: 1.7918 - val_accuracy: 0.1695\n",
            "Epoch 64/100\n",
            "267/267 [==============================] - 1s 5ms/step - loss: 1.7918 - accuracy: 0.1536 - val_loss: 1.7918 - val_accuracy: 0.1695\n",
            "Epoch 65/100\n",
            "267/267 [==============================] - 1s 5ms/step - loss: 1.7918 - accuracy: 0.1602 - val_loss: 1.7918 - val_accuracy: 0.1695\n",
            "Epoch 66/100\n",
            "267/267 [==============================] - 1s 5ms/step - loss: 1.7918 - accuracy: 0.1378 - val_loss: 1.7918 - val_accuracy: 0.1695\n",
            "Epoch 67/100\n",
            "267/267 [==============================] - 1s 5ms/step - loss: 1.7918 - accuracy: 0.1578 - val_loss: 1.7918 - val_accuracy: 0.1695\n",
            "Epoch 68/100\n",
            "267/267 [==============================] - 1s 5ms/step - loss: 1.7918 - accuracy: 0.1669 - val_loss: 1.7918 - val_accuracy: 0.1695\n",
            "Epoch 69/100\n",
            "267/267 [==============================] - 1s 5ms/step - loss: 1.7918 - accuracy: 0.1481 - val_loss: 1.7918 - val_accuracy: 0.1695\n",
            "Epoch 70/100\n",
            "267/267 [==============================] - 1s 5ms/step - loss: 1.7918 - accuracy: 0.1691 - val_loss: 1.7918 - val_accuracy: 0.1695\n",
            "Epoch 71/100\n",
            "267/267 [==============================] - 1s 5ms/step - loss: 1.7918 - accuracy: 0.1579 - val_loss: 1.7918 - val_accuracy: 0.1695\n",
            "Epoch 72/100\n",
            "267/267 [==============================] - 1s 5ms/step - loss: 1.7918 - accuracy: 0.1632 - val_loss: 1.7918 - val_accuracy: 0.1695\n",
            "Epoch 73/100\n",
            "267/267 [==============================] - 1s 5ms/step - loss: 1.7918 - accuracy: 0.1628 - val_loss: 1.7918 - val_accuracy: 0.1695\n",
            "Epoch 74/100\n",
            "267/267 [==============================] - 1s 5ms/step - loss: 1.7918 - accuracy: 0.1701 - val_loss: 1.7918 - val_accuracy: 0.1695\n",
            "Epoch 75/100\n",
            "267/267 [==============================] - 1s 5ms/step - loss: 1.7918 - accuracy: 0.1722 - val_loss: 1.7918 - val_accuracy: 0.1695\n",
            "Epoch 76/100\n",
            "267/267 [==============================] - 1s 5ms/step - loss: 1.7918 - accuracy: 0.1651 - val_loss: 1.7918 - val_accuracy: 0.1695\n",
            "Epoch 77/100\n",
            "267/267 [==============================] - 1s 5ms/step - loss: 1.7918 - accuracy: 0.1688 - val_loss: 1.7918 - val_accuracy: 0.1695\n",
            "Epoch 78/100\n",
            "267/267 [==============================] - 2s 6ms/step - loss: 1.7918 - accuracy: 0.1489 - val_loss: 1.7918 - val_accuracy: 0.1695\n",
            "Epoch 79/100\n",
            "267/267 [==============================] - 1s 5ms/step - loss: 1.7918 - accuracy: 0.1440 - val_loss: 1.7918 - val_accuracy: 0.1695\n",
            "Epoch 80/100\n",
            "267/267 [==============================] - 1s 5ms/step - loss: 1.7918 - accuracy: 0.1509 - val_loss: 1.7918 - val_accuracy: 0.1695\n",
            "Epoch 81/100\n",
            "267/267 [==============================] - 1s 5ms/step - loss: 1.7918 - accuracy: 0.1496 - val_loss: 1.7918 - val_accuracy: 0.1695\n",
            "Epoch 82/100\n",
            "267/267 [==============================] - 1s 5ms/step - loss: 1.7918 - accuracy: 0.1598 - val_loss: 1.7918 - val_accuracy: 0.1695\n",
            "Epoch 83/100\n",
            "267/267 [==============================] - 1s 5ms/step - loss: 1.7918 - accuracy: 0.1794 - val_loss: 1.7918 - val_accuracy: 0.1695\n",
            "Epoch 84/100\n",
            "267/267 [==============================] - 1s 5ms/step - loss: 1.7918 - accuracy: 0.1566 - val_loss: 1.7918 - val_accuracy: 0.1695\n",
            "Epoch 85/100\n",
            "267/267 [==============================] - 1s 5ms/step - loss: 1.7918 - accuracy: 0.1590 - val_loss: 1.7918 - val_accuracy: 0.1695\n",
            "Epoch 86/100\n",
            "267/267 [==============================] - 1s 5ms/step - loss: 1.7918 - accuracy: 0.1633 - val_loss: 1.7918 - val_accuracy: 0.1695\n",
            "Epoch 87/100\n",
            "267/267 [==============================] - 1s 5ms/step - loss: 1.7918 - accuracy: 0.1547 - val_loss: 1.7918 - val_accuracy: 0.1695\n",
            "Epoch 88/100\n",
            "267/267 [==============================] - 1s 5ms/step - loss: 1.7918 - accuracy: 0.1539 - val_loss: 1.7918 - val_accuracy: 0.1695\n",
            "Epoch 89/100\n",
            "267/267 [==============================] - 1s 5ms/step - loss: 1.7918 - accuracy: 0.1482 - val_loss: 1.7918 - val_accuracy: 0.1695\n",
            "Epoch 90/100\n",
            "267/267 [==============================] - 1s 5ms/step - loss: 1.7918 - accuracy: 0.1580 - val_loss: 1.7918 - val_accuracy: 0.1695\n",
            "Epoch 91/100\n",
            "267/267 [==============================] - 1s 5ms/step - loss: 1.7918 - accuracy: 0.1704 - val_loss: 1.7918 - val_accuracy: 0.1695\n",
            "Epoch 92/100\n",
            "267/267 [==============================] - 1s 5ms/step - loss: 1.7918 - accuracy: 0.1701 - val_loss: 1.7918 - val_accuracy: 0.1695\n",
            "Epoch 93/100\n",
            "267/267 [==============================] - 1s 5ms/step - loss: 1.7918 - accuracy: 0.1812 - val_loss: 1.7918 - val_accuracy: 0.1695\n",
            "Epoch 94/100\n",
            "267/267 [==============================] - 1s 5ms/step - loss: 1.7918 - accuracy: 0.1495 - val_loss: 1.7918 - val_accuracy: 0.1695\n",
            "Epoch 95/100\n",
            "267/267 [==============================] - 1s 5ms/step - loss: 1.7918 - accuracy: 0.1502 - val_loss: 1.7918 - val_accuracy: 0.1695\n",
            "Epoch 96/100\n",
            "267/267 [==============================] - 1s 5ms/step - loss: 1.7918 - accuracy: 0.1673 - val_loss: 1.7918 - val_accuracy: 0.1695\n",
            "Epoch 97/100\n",
            "267/267 [==============================] - 1s 5ms/step - loss: 1.7918 - accuracy: 0.1590 - val_loss: 1.7918 - val_accuracy: 0.1695\n",
            "Epoch 98/100\n",
            "267/267 [==============================] - 1s 5ms/step - loss: 1.7918 - accuracy: 0.1487 - val_loss: 1.7918 - val_accuracy: 0.1695\n",
            "Epoch 99/100\n",
            "267/267 [==============================] - 1s 5ms/step - loss: 1.7918 - accuracy: 0.1489 - val_loss: 1.7918 - val_accuracy: 0.1695\n",
            "Epoch 100/100\n",
            "267/267 [==============================] - 1s 5ms/step - loss: 1.7918 - accuracy: 0.1552 - val_loss: 1.7918 - val_accuracy: 0.1695\n"
          ],
          "name": "stdout"
        }
      ]
    },
    {
      "cell_type": "code",
      "metadata": {
        "id": "f5ZVOcDt6nZ3"
      },
      "source": [
        ""
      ],
      "execution_count": 44,
      "outputs": []
    },
    {
      "cell_type": "code",
      "metadata": {
        "id": "YxflccgrS4wK"
      },
      "source": [
        "keras_file = \"model.h5\"\r\n",
        "keras.models.save_model(model, keras_file)"
      ],
      "execution_count": 45,
      "outputs": []
    },
    {
      "cell_type": "code",
      "metadata": {
        "colab": {
          "base_uri": "https://localhost:8080/"
        },
        "id": "cXv23OPZuOM9",
        "outputId": "64b7cc6d-4032-476b-ae6e-e671e55db646"
      },
      "source": [
        "converter = tf.lite.TFLiteConverter.from_keras_model(model)\r\n",
        "tflite_model = converter.convert()\r\n",
        "\r\n",
        "with open('model.tflite', 'wb') as f:\r\n",
        "  f.write(tflite_model)"
      ],
      "execution_count": 46,
      "outputs": [
        {
          "output_type": "stream",
          "text": [
            "INFO:tensorflow:Assets written to: /tmp/tmp1hjyamf8/assets\n"
          ],
          "name": "stdout"
        },
        {
          "output_type": "stream",
          "text": [
            "INFO:tensorflow:Assets written to: /tmp/tmp1hjyamf8/assets\n"
          ],
          "name": "stderr"
        }
      ]
    },
    {
      "cell_type": "code",
      "metadata": {
        "colab": {
          "base_uri": "https://localhost:8080/"
        },
        "id": "ws9nLJf_xQK9",
        "outputId": "1aa9f365-343d-4981-9ea0-47d839142b17"
      },
      "source": [
        "from google.colab import drive\n",
        "drive.mount('/content/drive')"
      ],
      "execution_count": 47,
      "outputs": [
        {
          "output_type": "stream",
          "text": [
            "Drive already mounted at /content/drive; to attempt to forcibly remount, call drive.mount(\"/content/drive\", force_remount=True).\n"
          ],
          "name": "stdout"
        }
      ]
    }
  ]
}